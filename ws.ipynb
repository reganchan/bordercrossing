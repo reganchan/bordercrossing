{
 "cells": [
  {
   "cell_type": "code",
   "execution_count": 4,
   "metadata": {
    "collapsed": true
   },
   "outputs": [
    {
     "data": {
      "text/plain": [
       "Index(['CBSA Office', 'Location', 'Updated', 'Commercial Flow',\n       'Travellers Flow'],\n      dtype='object')"
      ]
     },
     "execution_count": 4,
     "metadata": {},
     "output_type": "execute_result"
    }
   ],
   "source": [
    "import numpy as np\n",
    "import pandas as pd\n",
    "data = pd.read_csv(\"bwt-taf-2010-2014-eng.csv\")\n",
    "data.columns"
   ]
  },
  {
   "cell_type": "code",
   "execution_count": 5,
   "metadata": {},
   "outputs": [
    {
     "data": {
      "text/plain": [
       "Counter({'Abbotsford-Huntingdon': 39822,\n         'Aldergrove': 11577,\n         'Ambassador Bridge': 42907,\n         'Blue Water Bridge': 40096,\n         'Boundary Bay': 41412,\n         'Cornwall': 40619,\n         'Coutts': 47175,\n         'Detroit and Canada Tunnel': 46252,\n         'Douglas (Peace Arch)': 39522,\n         'Edmundston': 18456,\n         'Emerson': 43455,\n         'Fort Frances Bridge': 37795,\n         'North Portal': 37833,\n         'Pacific Highway': 38985,\n         'Peace Bridge': 42177,\n         'Prescott': 26790,\n         'Queenston-Lewiston Bridge': 44234,\n         'Rainbow Bridge': 40976,\n         'Sault Ste. Marie': 41647,\n         'St-Armand/Philipsburg': 41945,\n         'St-Bernard-de-Lacolle': 45245,\n         'St. Stephen': 40225,\n         'St.Stephen 3rd Bridge': 17312,\n         'Stanstead': 37121,\n         'Thousand Island Bridge': 44078,\n         'Woodstock Road': 45337})"
      ]
     },
     "execution_count": 5,
     "metadata": {},
     "output_type": "execute_result"
    }
   ],
   "source": [
    "from collections import Counter\n",
    "cbsa_counts = Counter(data['CBSA Office'])\n",
    "cbsa_counts"
   ]
  },
  {
   "cell_type": "code",
   "execution_count": 21,
   "metadata": {},
   "outputs": [
    {
     "data": {
      "text/plain": [
       "Counter({'Aldergrove, BC': 11577,\n         'Belleville, NB': 45337,\n         'Cornwall, ON': 40619,\n         'Coutts, AB': 47175,\n         'Delta, BC': 41412,\n         'Edmundston, NB': 18456,\n         'Emerson, MB': 43455,\n         'Fort Erie, ON': 42177,\n         'Fort Frances, ON': 37795,\n         'Huntingdon, BC': 39822,\n         'Lacolle, QC': 45245,\n         'Lansdowne, ON': 44078,\n         'Niagara Falls, ON': 40976,\n         'North Portal, SK': 37833,\n         'Prescott, ON': 26790,\n         'Queenston, ON': 44234,\n         'Sarnia, ON': 40096,\n         'Sault Ste. Marie, ON': 41647,\n         'St. Armand, QC': 41945,\n         'St. Stephen, NB': 40225,\n         'St.Stephen, NB': 17312,\n         'Stanstead, QC': 37121,\n         'Surrey, BC': 78507,\n         'Windsor, ON': 89159})"
      ]
     },
     "execution_count": 21,
     "metadata": {},
     "output_type": "execute_result"
    }
   ],
   "source": [
    "loc_counts = Counter(data.Location)\n",
    "loc_counts"
   ]
  },
  {
   "cell_type": "code",
   "execution_count": 23,
   "metadata": {},
   "outputs": [
    {
     "data": {
      "text/plain": [
       "(24, 26)"
      ]
     },
     "execution_count": 23,
     "metadata": {},
     "output_type": "execute_result"
    }
   ],
   "source": [
    "len(loc_counts), len(cbsa_counts)"
   ]
  },
  {
   "cell_type": "code",
   "execution_count": 6,
   "metadata": {},
   "outputs": [],
   "source": [
    "for cbsa in cbsa_counts:\n",
    "    filename = cbsa.replace(\"/\", \"_\") + \".csv\"\n",
    "    data[data[\"CBSA Office\"]==cbsa].drop(columns=[\"CBSA Office\", \"Location\"]).to_csv(filename)"
   ]
  },
  {
   "cell_type": "code",
   "execution_count": null,
   "metadata": {},
   "outputs": [],
   "source": []
  }
 ],
 "metadata": {
  "kernelspec": {
   "display_name": "Python 2",
   "language": "python",
   "name": "python2"
  },
  "language_info": {
   "codemirror_mode": {
    "name": "ipython",
    "version": 2
   },
   "file_extension": ".py",
   "mimetype": "text/x-python",
   "name": "python",
   "nbconvert_exporter": "python",
   "pygments_lexer": "ipython2",
   "version": "2.7.6"
  }
 },
 "nbformat": 4,
 "nbformat_minor": 0
}
